{
 "cells": [
  {
   "cell_type": "code",
   "execution_count": 3,
   "id": "b300ba54",
   "metadata": {},
   "outputs": [
    {
     "name": "stdout",
     "output_type": "stream",
     "text": [
      "A\n",
      "B\n",
      "D\n",
      "C\n",
      "E\n",
      "F\n",
      "G\n"
     ]
    }
   ],
   "source": [
    "def bfs(g, s):\n",
    "    v = []          \n",
    "    q = [s]        \n",
    "\n",
    "    while q:\n",
    "        x = q.pop(0)      \n",
    "        if x not in v:\n",
    "            print(x)      \n",
    "            v.append(x)\n",
    "\n",
    "            for n in g[x]:\n",
    "                if n not in v and n not in q:\n",
    "                    q.append(n)\n",
    "\n",
    "graph = {\n",
    "    'A': ['B', 'D'],\n",
    "    'B': ['C', 'E'],\n",
    "    'C': ['F'],\n",
    "    'D': [],\n",
    "    'E': ['G'],\n",
    "    'F': [],\n",
    "    'G': ['D']\n",
    "}\n",
    "\n",
    "bfs(graph, 'A')\n"
   ]
  },
  {
   "cell_type": "code",
   "execution_count": 4,
   "id": "3efda747",
   "metadata": {},
   "outputs": [
    {
     "name": "stdout",
     "output_type": "stream",
     "text": [
      "A\n",
      "B\n",
      "D\n",
      "C\n",
      "E\n",
      "F\n",
      "G\n"
     ]
    }
   ],
   "source": [
    "def bfs(g, level):\n",
    "    if not level:         \n",
    "        return\n",
    "    \n",
    "    next_level = []       \n",
    "    \n",
    "    for x in level:\n",
    "        if x not in v:\n",
    "            print(x)\n",
    "            v.append(x)\n",
    "            for n in g[x]:\n",
    "                if n not in v:\n",
    "                    next_level.append(n)\n",
    "    \n",
    "    bfs(g, next_level)    \n",
    "\n",
    "graph = {\n",
    "    'A': ['B', 'D'],\n",
    "    'B': ['C', 'E'],\n",
    "    'C': ['F'],\n",
    "    'D': [],\n",
    "    'E': ['G'],\n",
    "    'F': [],\n",
    "    'G': ['D']\n",
    "}\n",
    "\n",
    "v = []  \n",
    "bfs(graph, ['A'])  \n"
   ]
  }
 ],
 "metadata": {
  "kernelspec": {
   "display_name": "Python 3",
   "language": "python",
   "name": "python3"
  },
  "language_info": {
   "codemirror_mode": {
    "name": "ipython",
    "version": 3
   },
   "file_extension": ".py",
   "mimetype": "text/x-python",
   "name": "python",
   "nbconvert_exporter": "python",
   "pygments_lexer": "ipython3",
   "version": "3.13.0"
  }
 },
 "nbformat": 4,
 "nbformat_minor": 5
}
