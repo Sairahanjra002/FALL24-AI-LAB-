{
 "cells": [
  {
   "cell_type": "code",
   "execution_count": 6,
   "metadata": {},
   "outputs": [
    {
     "name": "stdout",
     "output_type": "stream",
     "text": [
      "77\n",
      "Correct! none\n",
      "New number: 38\n",
      "Old number 77 + new number 38 = Total 115\n",
      "115\n",
      "Correct! buzz\n",
      "New number: 47\n",
      "Old number 115 + new number 47 = Total 162\n",
      "162\n",
      "Correct! fizz\n",
      "New number: 71\n",
      "Old number 162 + new number 71 = Total 233\n",
      "233\n",
      "Correct! none\n",
      "New number: 98\n",
      "Old number 233 + new number 98 = Total 331\n",
      "331\n",
      "Correct! none\n",
      "New number: 88\n",
      "Old number 331 + new number 88 = Total 419\n",
      "419\n",
      "Correct! none\n",
      "New number: 8\n",
      "Old number 419 + new number 8 = Total 427\n",
      "427\n",
      "Wrong! The right answer was: none\n"
     ]
    }
   ],
   "source": [
    "import random\n",
    "\n",
    "def fizzbuzz():\n",
    "    number = random.randint(1, 100)\n",
    "\n",
    "    while True:\n",
    "        print(number)\n",
    "        user = input(\"Tell me if the number is divisible by 3 (fizz), 5 (buzz), both (fizzbuzz), or none: \")\n",
    "\n",
    "        if number % 5 == 0 and number % 3 == 0:\n",
    "            correct = \"fizzbuzz\"\n",
    "        elif number % 3 == 0:\n",
    "            correct = \"fizz\"\n",
    "        elif number % 5 == 0:\n",
    "            correct = \"buzz\"\n",
    "        else:\n",
    "            correct = \"none\"\n",
    "\n",
    "        if user == correct:\n",
    "            print(\"Correct!\", correct)\n",
    "        else:\n",
    "            print(\"Wrong! The right answer was:\", correct)\n",
    "            break\n",
    "\n",
    "        new_number = random.randint(1, 100)\n",
    "        print(f\"New number: {new_number}\")\n",
    "\n",
    "        total = number + new_number\n",
    "        print(f\"Old number {number} + new number {new_number} = Total {total}\")\n",
    "\n",
    "        number = total\n",
    "\n",
    "fizzbuzz()\n"
   ]
  },
  {
   "cell_type": "markdown",
   "metadata": {},
   "source": [
    "#### task 2"
   ]
  },
  {
   "cell_type": "code",
   "execution_count": 9,
   "metadata": {},
   "outputs": [
    {
     "name": "stdout",
     "output_type": "stream",
     "text": [
      "Total budget: 1356950000\n",
      "Average budget: 169618750.0\n",
      "\n",
      "Movies above average:\n",
      "Pirates of the Caribbean: On Stranger Tides → budget 379000000, which is 209381250.0 more than average.\n",
      "Avengers: Age of Ultron → budget 365000000, which is 195381250.0 more than average.\n",
      "Avengers: Endgame → budget 356000000, which is 186381250.0 more than average.\n",
      "Incredibles 2 → budget 200000000, which is 30381250.0 more than average.\n",
      "\n",
      "Total movies above average: 4\n"
     ]
    }
   ],
   "source": [
    "movies = [\n",
    "    (\"Eternal Sunshine of the Spotless Mind\", 20000000),\n",
    "    (\"Memento\", 9000000),\n",
    "    (\"Requiem for a Dream\", 4500000),\n",
    "    (\"Pirates of the Caribbean: On Stranger Tides\", 379000000),\n",
    "    (\"Avengers: Age of Ultron\", 365000000),\n",
    "    (\"Avengers: Endgame\", 356000000),\n",
    "    (\"Incredibles 2\", 200000000)\n",
    "]\n",
    "\n",
    "ans = input(\"Add movies? (yes/no): \")\n",
    "\n",
    "if ans == \"yes\":\n",
    "    more = int(input(\"How many movies? \"))\n",
    "    for i in range(more):\n",
    "        name = input(\"Movie name: \")\n",
    "        budget = int(input(\"Movie budget: \"))\n",
    "        movies.append((name, budget))\n",
    "elif ans == \"no\":\n",
    "    print(\"No movies added.\")\n",
    "    exit()\n",
    "\n",
    "\n",
    "total = 0\n",
    "for name, budget in movies:\n",
    "    total += budget\n",
    "avg = total / len(movies)\n",
    "\n",
    "print(\"Total budget:\", total)\n",
    "print(\"Average budget:\", avg)\n",
    "\n",
    "print(\"\\nMovies above average:\")\n",
    "count = 0\n",
    "for name, budget in movies:\n",
    "    if budget > avg:\n",
    "        print(f\"{name} → budget {budget}, which is {budget - avg} more than average.\")\n",
    "        count += 1\n",
    "\n",
    "print(\"\\nTotal movies above average:\", count)\n"
   ]
  }
 ],
 "metadata": {
  "kernelspec": {
   "display_name": "Python 3",
   "language": "python",
   "name": "python3"
  },
  "language_info": {
   "codemirror_mode": {
    "name": "ipython",
    "version": 3
   },
   "file_extension": ".py",
   "mimetype": "text/x-python",
   "name": "python",
   "nbconvert_exporter": "python",
   "pygments_lexer": "ipython3",
   "version": "3.13.0"
  }
 },
 "nbformat": 4,
 "nbformat_minor": 2
}
