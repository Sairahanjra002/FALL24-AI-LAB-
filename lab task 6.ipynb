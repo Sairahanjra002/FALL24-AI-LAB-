{
 "cells": [
  {
   "cell_type": "code",
   "execution_count": 2,
   "id": "f3de3222",
   "metadata": {},
   "outputs": [
    {
     "name": "stdout",
     "output_type": "stream",
     "text": [
      "Simple Graph: A-B-D-F, A-C-E\n",
      "BFS Order: A B C D E F \n"
     ]
    }
   ],
   "source": [
    "def simple_bfs_queue(graph, start):\n",
    "    visited = set()\n",
    "    queue = [start]\n",
    "    visited.add(start)\n",
    "\n",
    "    print(\"BFS Order:\", end=\" \")\n",
    "\n",
    "    while queue:\n",
    "        node = queue.pop(0)   # Remove from front of queue\n",
    "        print(node, end=\" \")\n",
    "\n",
    "        for neighbour in graph[node]:\n",
    "            if neighbour not in visited:\n",
    "                visited.add(neighbour)\n",
    "                queue.append(neighbour)\n",
    "    print()\n",
    "simple_graph = {\n",
    "    'A': ['B', 'C'],\n",
    "    'B': ['A', 'D'],\n",
    "    'C': ['A', 'E'],\n",
    "    'D': ['B', 'F'],\n",
    "    'E': ['C'],\n",
    "    'F': ['D']\n",
    "}\n",
    "print(\"Simple Graph: A-B-D-F, A-C-E\")\n",
    "simple_bfs_queue(simple_graph, 'A')\n"
   ]
  },
  {
   "cell_type": "code",
   "execution_count": 5,
   "id": "1c4f03cf",
   "metadata": {},
   "outputs": [
    {
     "name": "stdout",
     "output_type": "stream",
     "text": [
      "Simple Graph: A-B-D-F, A-C-E\n",
      "BFS Level Order: A B C D E F \n"
     ]
    }
   ],
   "source": [
    "def simple_bfs_no_queue(graph, start):\n",
    "    visited = set([start])\n",
    "    current = [start]\n",
    "\n",
    "    print(\"BFS Level Order:\", end=\" \")\n",
    "\n",
    "    while current:\n",
    "        next_level = []\n",
    "\n",
    "        for node in current:\n",
    "            print(node, end=\" \")\n",
    "\n",
    "            for neighbour in graph[node]:\n",
    "                if neighbour not in visited:\n",
    "                    visited.add(neighbour)\n",
    "                    next_level.append(neighbour)\n",
    "\n",
    "        current = next_level\n",
    "    print()\n",
    "simple_graph = {\n",
    "    'A': ['B', 'C'],\n",
    "    'B': ['A', 'D'],\n",
    "    'C': ['A', 'E'],\n",
    "    'D': ['B', 'F'],\n",
    "    'E': ['C'],\n",
    "    'F': ['D']\n",
    "}\n",
    "\n",
    "print(\"Simple Graph: A-B-D-F, A-C-E\")\n",
    "simple_bfs_no_queue(simple_graph, 'A')\n"
   ]
  }
 ],
 "metadata": {
  "kernelspec": {
   "display_name": "Python 3",
   "language": "python",
   "name": "python3"
  },
  "language_info": {
   "codemirror_mode": {
    "name": "ipython",
    "version": 3
   },
   "file_extension": ".py",
   "mimetype": "text/x-python",
   "name": "python",
   "nbconvert_exporter": "python",
   "pygments_lexer": "ipython3",
   "version": "3.13.5"
  }
 },
 "nbformat": 4,
 "nbformat_minor": 5
}
