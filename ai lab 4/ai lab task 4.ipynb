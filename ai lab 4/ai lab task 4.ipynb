{
 "cells": [
  {
   "cell_type": "markdown",
   "id": "7f10942b",
   "metadata": {},
   "source": [
    "### Lab 4 Task\n",
    "1. Code for LUHN Algorithm\n",
    "2. Write a python program to remove punctuations from the given string?\n",
    "3. Write a python program to sort the sentence in alphabetical order?"
   ]
  },
  {
   "cell_type": "code",
   "execution_count": 2,
   "id": "4d8f80a7",
   "metadata": {},
   "outputs": [
    {
     "name": "stdout",
     "output_type": "stream",
     "text": [
      "Digits: [5, 8, 9, 3, 8, 0, 4, 1, 1, 5, 4, 5, 7, 2, 8, 9]\n",
      "Check Digit: 9\n",
      "Reversed digits: [8, 2, 7, 5, 4, 5, 1, 1, 4, 0, 8, 3, 9, 8, 5]\n",
      "sum: 80\n",
      "valid\n"
     ]
    }
   ],
   "source": [
    "card = \"5893804115457289\"\n",
    "\n",
    "\n",
    "digits = []\n",
    "for d in card:\n",
    "    digits.append(int(d))\n",
    "print(\"Digits:\", digits)\n",
    "\n",
    "\n",
    "last = digits[-1]\n",
    "print(\"Check Digit:\", last)\n",
    "\n",
    "rev = digits[:-1][::-1]\n",
    "print(\"Reversed digits:\", rev)\n",
    "\n",
    "\n",
    "for i in range(len(rev)):\n",
    "    if i % 2 == 0:\n",
    "        rev[i] = rev[i] * 2\n",
    "        if rev[i] > 9:\n",
    "            rev[i] -= 9\n",
    "\n",
    "\n",
    "total = last\n",
    "for d in rev:\n",
    "    total += d\n",
    "print(\"sum:\", total)\n",
    "\n",
    "if total % 10 == 0:\n",
    "    print(\"valid\")\n",
    "else:\n",
    "    print(\"invalid\")\n"
   ]
  },
  {
   "cell_type": "code",
   "execution_count": 8,
   "id": "9ae83c69",
   "metadata": {},
   "outputs": [
    {
     "name": "stdout",
     "output_type": "stream",
     "text": [
      "My text: my!!! name, is: saira; irshad???\n",
      "Without Punctuations: my name is saira irshad\n"
     ]
    }
   ],
   "source": [
    "text = \"my!!! name, is: saira; irshad???\"\n",
    "\n",
    "punctuations = \"!()-[]{;}:'\\\"\\\\,<>./?@#$%^&*_~\"\n",
    "\n",
    "clean = \"\"\n",
    "\n",
    "for ch in text:\n",
    "    if ch not in punctuations:\n",
    "        clean = clean + ch\n",
    "\n",
    "print(\"My text:\", text)\n",
    "print(\"Without Punctuations:\", clean)\n"
   ]
  },
  {
   "cell_type": "code",
   "execution_count": 11,
   "id": "10773186",
   "metadata": {},
   "outputs": [
    {
     "name": "stdout",
     "output_type": "stream",
     "text": [
      "Letters sorted:    Saaaeiimmnrsy\n",
      "Words sorted alphabetically: Saira is my name\n"
     ]
    }
   ],
   "source": [
    "text = \"my name is Saira\"\n",
    "\n",
    "\n",
    "letters = list(text)\n",
    "for i in range(len(letters)):\n",
    "    for j in range(i + 1, len(letters)):\n",
    "        if letters[i] > letters[j]:\n",
    "            letters[i], letters[j] = letters[j], letters[i]\n",
    "\n",
    "sorted_letters = \"\".join(letters)\n",
    "print(\"Letters sorted:\", sorted_letters)\n",
    "\n",
    "\n",
    "words = text.split()\n",
    "for i in range(len(words)):\n",
    "    for j in range(i + 1, len(words)):\n",
    "        if words[i] > words[j]: \n",
    "            words[i], words[j] = words[j], words[i]\n",
    "\n",
    "sorted_words = \" \".join(words)\n",
    "print(\"Words sorted alphabetically:\", sorted_words)\n"
   ]
  }
 ],
 "metadata": {
  "kernelspec": {
   "display_name": "Python 3",
   "language": "python",
   "name": "python3"
  },
  "language_info": {
   "codemirror_mode": {
    "name": "ipython",
    "version": 3
   },
   "file_extension": ".py",
   "mimetype": "text/x-python",
   "name": "python",
   "nbconvert_exporter": "python",
   "pygments_lexer": "ipython3",
   "version": "3.13.0"
  }
 },
 "nbformat": 4,
 "nbformat_minor": 5
}
