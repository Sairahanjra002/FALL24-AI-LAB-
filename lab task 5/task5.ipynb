{
 "cells": [
  {
   "cell_type": "code",
   "execution_count": null,
   "id": "a8b7987b",
   "metadata": {},
   "outputs": [
    {
     "name": "stdout",
     "output_type": "stream",
     "text": [
      "0\n",
      "2\n",
      "1\n",
      "4\n",
      "3\n",
      "Goal 3 found!\n"
     ]
    },
    {
     "data": {
      "text/plain": [
       "{'0', '1', '2', '3', '4'}"
      ]
     },
     "execution_count": 3,
     "metadata": {},
     "output_type": "execute_result"
    }
   ],
   "source": [
    "def dfs_stack(graph, start, goal):\n",
    "    visited = set()        \n",
    "    stack = [start]        \n",
    "\n",
    "    while stack:\n",
    "        element = stack.pop()   \n",
    "        if element not in visited:\n",
    "            print(element)      \n",
    "            visited.add(element)\n",
    "\n",
    "          \n",
    "            if element == goal:\n",
    "                print(f\"Goal {goal} found!\")\n",
    "                return visited\n",
    "\n",
    "            stack.extend(graph[element] - visited)\n",
    "\n",
    "    return visited\n",
    "\n",
    "\n",
    "\n",
    "graph = {\n",
    "    '0': set(['1', '2']),\n",
    "    '1': set(['0', '3', '4']),\n",
    "    '2': set(['0']),\n",
    "    '3': set(['1']),\n",
    "    '4': set(['2', '3'])\n",
    "}\n",
    "\n",
    "dfs_stack(graph, '0', '3')  \n"
   ]
  }
 ],
 "metadata": {
  "kernelspec": {
   "display_name": "Python 3",
   "language": "python",
   "name": "python3"
  },
  "language_info": {
   "codemirror_mode": {
    "name": "ipython",
    "version": 3
   },
   "file_extension": ".py",
   "mimetype": "text/x-python",
   "name": "python",
   "nbconvert_exporter": "python",
   "pygments_lexer": "ipython3",
   "version": "3.13.0"
  }
 },
 "nbformat": 4,
 "nbformat_minor": 5
}
